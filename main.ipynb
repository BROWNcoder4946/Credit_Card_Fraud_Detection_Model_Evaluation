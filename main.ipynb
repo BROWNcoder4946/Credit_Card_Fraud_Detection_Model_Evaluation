{
 "cells": [
  {
   "cell_type": "code",
   "execution_count": 1,
   "metadata": {},
   "outputs": [],
   "source": [
    "# To handle the data\n",
    "import pandas as pd\n",
    "\n",
    "# Sampling\n",
    "from imblearn.under_sampling import RandomUnderSampler\n",
    "from imblearn.over_sampling import RandomOverSampler\n",
    "from imblearn.under_sampling import TomekLinks\n",
    "from imblearn.over_sampling import SMOTE\n",
    "from imblearn.under_sampling import NearMiss\n",
    "\n",
    "# ML Models\n",
    "from sklearn.linear_model import LogisticRegression\n",
    "from sklearn.ensemble import RandomForestClassifier\n",
    "from sklearn.svm import SVC\n",
    "from sklearn.neighbors import KNeighborsClassifier\n",
    "import xgboost as xgb\n",
    "\n",
    "# To meausure accuracy/recall\n",
    "from sklearn.metrics import accuracy_score, classification_report\n",
    "from sklearn.metrics import recall_score"
   ]
  },
  {
   "cell_type": "code",
   "execution_count": 2,
   "metadata": {},
   "outputs": [],
   "source": [
    "credit_df = pd.read_csv('Creditcard_data.csv')"
   ]
  },
  {
   "cell_type": "code",
   "execution_count": 3,
   "metadata": {},
   "outputs": [
    {
     "data": {
      "text/plain": [
       "0.011658031088082901"
      ]
     },
     "execution_count": 3,
     "metadata": {},
     "output_type": "execute_result"
    }
   ],
   "source": [
    "# Checking for unbalanced column - 'Class'\n",
    "sum(credit_df['Class']==1)/(sum(credit_df['Class']==0)+sum(credit_df['Class']==1)) \n"
   ]
  },
  {
   "cell_type": "code",
   "execution_count": 4,
   "metadata": {},
   "outputs": [],
   "source": [
    "def train_model(model_name , train_X , train_Y ):\n",
    "    if model_name == 'LogisticRegression':\n",
    "        model = LogisticRegression(max_iter=1000 , solver='newton-cg')\n",
    "    elif model_name == 'RandomForestClassifier':\n",
    "        model = RandomForestClassifier()\n",
    "    elif model_name == 'SVC':\n",
    "        model = SVC()\n",
    "    elif model_name == 'KNeighborsClassifier':\n",
    "        model = KNeighborsClassifier()\n",
    "    elif model_name == 'XGBClassifier':\n",
    "        model = xgb.XGBClassifier()\n",
    "    else:\n",
    "        raise ValueError(f\"Unknown model: {model_name}\")\n",
    "    \n",
    "    model.fit(train_X,train_Y)\n",
    "    \n",
    "    return model\n",
    "\n",
    "def performance(measure , test_Y , predictions):\n",
    "    if measure == 'recall':\n",
    "        score = recall_score(test_Y, predictions)\n",
    "    elif measure == 'accuracy':\n",
    "        score = accuracy_score(test_Y, predictions)\n",
    "    else:\n",
    "        raise ValueError(f\"Unknown model: {measure}\")\n",
    "    return score"
   ]
  },
  {
   "cell_type": "code",
   "execution_count": 5,
   "metadata": {},
   "outputs": [],
   "source": [
    "# Creating columns for our resultant data frame\n",
    "result_df = pd.DataFrame()\n",
    "# For reproducibility\n",
    "seed_value = 42 \n",
    "# Defining a function to evaluate the accuracy of a model based on five different sampling techniques\n",
    "def evaluate(models , measure):\n",
    "    s1=[]\n",
    "    s2=[]\n",
    "    s3=[]\n",
    "    s4=[]\n",
    "    s5=[]\n",
    "    #result_df = pd.DataFrame()\n",
    "    for model_name in models:\n",
    "        # A) Random Under-Sampling with imblearn\n",
    "\n",
    "        rus_df = RandomUnderSampler(random_state=42, replacement=True)# fit predictor and target variable\n",
    "        train_X, train_Y = rus_df.fit_resample(credit_df.drop(columns=['Class']) , credit_df['Class'])\n",
    "\n",
    "        test_X = credit_df.drop(columns=['Class'])\n",
    "        test_Y = credit_df['Class']\n",
    "    \n",
    "        model = train_model(model_name,train_X,train_Y)\n",
    "        predictions = model.predict(test_X)\n",
    "        s1.append(performance(measure , test_Y , predictions))\n",
    "\n",
    "        # B) Random Over-Sampling with imblearn\n",
    "        ros_df = RandomOverSampler(random_state=42)\n",
    "        train_X, train_Y = ros_df.fit_resample(credit_df.drop(columns=['Class']) , credit_df['Class'])\n",
    "\n",
    "        #test_X = credit_df.drop(columns=['Class'])\n",
    "        #test_Y = credit_df['Class']\n",
    "        \n",
    "        model = train_model(model_name,train_X,train_Y)\n",
    "        predictions = model.predict(test_X)\n",
    "        s2.append(performance(measure , test_Y , predictions))\n",
    "\n",
    "        # C) Under-Sampling using Tomek Links\n",
    "        tl_df = RandomOverSampler(sampling_strategy='minority')\n",
    "        train_X, train_Y = tl_df.fit_resample(credit_df.drop(columns=['Class']) , credit_df['Class'])\n",
    "\n",
    "        #test_X = credit_df.drop(columns=['Class'])\n",
    "        #test_Y = credit_df['Class']\n",
    "        \n",
    "        model = train_model(model_name,train_X,train_Y)\n",
    "        predictions = model.predict(test_X)\n",
    "        s3.append(performance(measure , test_Y , predictions))\n",
    "\n",
    "        # D) Synthetic Minority Oversampling Technique (SMOTE)\n",
    "        smote = SMOTE()\n",
    "        train_X, train_Y = smote.fit_resample(credit_df.drop(columns=['Class']) , credit_df['Class'])\n",
    "\n",
    "        #test_X = credit_df.drop(columns=['Class'])\n",
    "        #test_Y = credit_df['Class']\n",
    "        \n",
    "        model = train_model(model_name,train_X,train_Y)\n",
    "        predictions = model.predict(test_X)\n",
    "        s4.append(performance(measure , test_Y , predictions))\n",
    "\n",
    "        # E) NearMiss\n",
    "        nm = NearMiss()\n",
    "        train_X, train_Y = nm.fit_resample(credit_df.drop(columns=['Class']) , credit_df['Class'])\n",
    "\n",
    "        #test_X = credit_df.drop(columns=['Class'])\n",
    "        #test_Y = credit_df['Class']\n",
    "        \n",
    "        model = train_model(model_name,train_X,train_Y)\n",
    "        predictions = model.predict(test_X)\n",
    "        s5.append(performance(measure , test_Y , predictions))\n",
    "\n",
    "\n",
    "    result_df = pd.DataFrame({'S1':s1,'S2':s2,'S3':s3,'S4':s4,'S5':s5} , index=models)\n",
    "    return result_df\n"
   ]
  },
  {
   "cell_type": "code",
   "execution_count": 6,
   "metadata": {},
   "outputs": [
    {
     "name": "stdout",
     "output_type": "stream",
     "text": [
      "                              S1        S2        S3        S4        S5\n",
      "LogisticRegression      0.888889  1.000000  1.000000  0.888889  0.888889\n",
      "RandomForestClassifier  1.000000  1.000000  1.000000  1.000000  1.000000\n",
      "SVC                     0.666667  0.666667  0.777778  0.666667  0.444444\n",
      "KNeighborsClassifier    0.555556  1.000000  1.000000  1.000000  0.444444\n",
      "XGBClassifier           1.000000  1.000000  1.000000  1.000000  1.000000\n",
      "                              S1        S2        S3        S4        S5\n",
      "LogisticRegression      0.461140  0.866580  0.865285  0.896373  0.217617\n",
      "RandomForestClassifier  0.722798  1.000000  1.000000  1.000000  0.560881\n",
      "SVC                     0.554404  0.748705  0.742228  0.642487  0.362694\n",
      "KNeighborsClassifier    0.597150  0.980570  0.980570  0.806995  0.190415\n",
      "XGBClassifier           0.693005  1.000000  1.000000  1.000000  0.098446\n"
     ]
    }
   ],
   "source": [
    "models = ['LogisticRegression' , 'RandomForestClassifier' , 'SVC' , 'KNeighborsClassifier' ,'XGBClassifier']\n",
    "recall_result_df = evaluate(models , 'recall')\n",
    "accuracy_result_df = evaluate(models , 'accuracy')\n",
    "print(recall_result_df)\n",
    "print(accuracy_result_df)\n",
    "recall_result_df.to_csv('recall_result.csv')\n",
    "accuracy_result_df.to_csv('accuracy_result.csv')"
   ]
  }
 ],
 "metadata": {
  "kernelspec": {
   "display_name": "Python 3",
   "language": "python",
   "name": "python3"
  },
  "language_info": {
   "codemirror_mode": {
    "name": "ipython",
    "version": 3
   },
   "file_extension": ".py",
   "mimetype": "text/x-python",
   "name": "python",
   "nbconvert_exporter": "python",
   "pygments_lexer": "ipython3",
   "version": "3.11.4"
  }
 },
 "nbformat": 4,
 "nbformat_minor": 2
}
